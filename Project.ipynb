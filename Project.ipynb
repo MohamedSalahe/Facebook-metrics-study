{
  "nbformat": 4,
  "nbformat_minor": 0,
  "metadata": {
    "colab": {
      "provenance": []
    },
    "kernelspec": {
      "name": "python3",
      "display_name": "Python 3"
    },
    "language_info": {
      "name": "python"
    }
  },
  "cells": [
    {
      "cell_type": "code",
      "source": [
        "import pandas as pd\n",
        "from sklearn.model_selection import train_test_split\n",
        "from sklearn.preprocessing import StandardScaler,PolynomialFeatures\n",
        "from sklearn.ensemble import RandomForestClassifier\n",
        "from sklearn.metrics import accuracy_score, classification_report,mean_squared_error, r2_score\n",
        "from sklearn.neighbors import KNeighborsClassifier\n",
        "from sklearn.naive_bayes import GaussianNB\n",
        "from sklearn.linear_model import LinearRegression,Ridge\n",
        "from sklearn.ensemble import RandomForestRegressor"
      ],
      "metadata": {
        "id": "5ts0C_BC7S1f"
      },
      "execution_count": null,
      "outputs": []
    },
    {
      "cell_type": "code",
      "source": [
        "df = pd.read_csv('dataset_Facebook.csv', sep=';')\n",
        "df['Type'] = df['Type'].map({'Photo': 1, 'Status': 2, 'Link': 3,\"Video\":4})\n",
        "df_ready = df.dropna()\n",
        "\n",
        "selected_features_classificationforpaid = [\n",
        "    \"Page total likes\", \"Post Hour\", \"Lifetime Post Total Reach\", \"Lifetime Post Total Impressions\",\n",
        "    \"Lifetime Engaged Users\", \"Lifetime Post Consumers\", \"Lifetime Post Consumptions\",\n",
        "    \"Lifetime Post Impressions by people who have liked your Page\",\n",
        "    \"Lifetime Post reach by people who like your Page\",\n",
        "    \"Lifetime People who have liked your Page and engaged with your post\",\n",
        "    \"comment\", \"like\", \"share\", \"Total Interactions\"\n",
        "]\n",
        "selected_features_regressionforinteactions = [\n",
        "    \"Lifetime Post Total Reach\", \"Lifetime Post Total Impressions\",\"Lifetime Post Consumers\",\"Lifetime Engaged Users\",\"Lifetime Post Consumptions\",\n",
        "    \"Lifetime Post Impressions by people who have liked your Page\",\n",
        "    \"Lifetime Post reach by people who like your Page\",\n",
        "    \"Lifetime People who have liked your Page and engaged with your post\",\n",
        "    \"Paid\"\n",
        "]"
      ],
      "metadata": {
        "id": "5mGVSaJ0_bD0"
      },
      "execution_count": null,
      "outputs": []
    },
    {
      "cell_type": "code",
      "source": [
        "X = df_ready[selected_features_classificationforpaid]\n",
        "y = df_ready[\"Paid\"]\n",
        "X_train, X_test, y_train, y_test = train_test_split(X, y, test_size=0.2, random_state=42)\n",
        "n_estimators_list = [10, 50, 100, 200]\n",
        "max_depth_list = [2, 4, 6, 8]\n",
        "results = {}\n",
        "best_scoreRandom = 0\n",
        "best_params = {}\n",
        "rf_results = []\n",
        "acc_scores = []\n",
        "for depth in max_depth_list:\n",
        "    for n_estimators in n_estimators_list:\n",
        "        clf = RandomForestClassifier(n_estimators=n_estimators, max_depth=depth, random_state=42)\n",
        "        clf.fit(X_train, y_train)\n",
        "        y_pred = clf.predict(X_test)\n",
        "        acc = accuracy_score(y_test, y_pred)\n",
        "        acc_scores.append(acc)\n",
        "        rf_results.append({'N_estimators': n_estimators, 'Max_depth': depth, 'Accuracy': acc})\n",
        "        if acc > best_scoreRandom:\n",
        "            best_scoreRandom = acc\n",
        "            best_params = {'N_estimators': n_estimators, 'Max_depth': depth}\n",
        "            best_model = clf\n",
        "    results[depth] = acc_scores\n",
        "y_pred_best = best_model.predict(X_test)\n",
        "print(f\"Best Parameters: N_estimators = {best_params['N_estimators']}, Max_depth = {best_params['Max_depth']}\")\n",
        "print(\"Classification Report: \\n\", classification_report(y_test,y_pred_best))\n",
        "rf_df = pd.DataFrame(rf_results)"
      ],
      "metadata": {
        "colab": {
          "base_uri": "https://localhost:8080/"
        },
        "id": "q1FCiuNO_Y0v",
        "outputId": "e2daa741-5522-4dc0-d15c-7ec9d520b5c1"
      },
      "execution_count": null,
      "outputs": [
        {
          "output_type": "stream",
          "name": "stdout",
          "text": [
            "Best Parameters: N_estimators = 200, Max_depth = 2\n",
            "Classification Report: \n",
            "               precision    recall  f1-score   support\n",
            "\n",
            "         0.0       0.81      1.00      0.90        79\n",
            "         1.0       1.00      0.10      0.18        20\n",
            "\n",
            "    accuracy                           0.82        99\n",
            "   macro avg       0.91      0.55      0.54        99\n",
            "weighted avg       0.85      0.82      0.75        99\n",
            "\n"
          ]
        }
      ]
    },
    {
      "cell_type": "code",
      "source": [
        "X = df_ready[selected_features_classificationforpaid]\n",
        "y = df_ready[\"Paid\"]\n",
        "scaler = StandardScaler()\n",
        "X_scaled = scaler.fit_transform(X)\n",
        "X_train, X_test, y_train, y_test = train_test_split(X_scaled, y, test_size=0.2, random_state=42)\n",
        "k_values = list(range(1, 21))\n",
        "accuracies = []\n",
        "knn_results = []\n",
        "for k in k_values:\n",
        "    knn = KNeighborsClassifier(n_neighbors=k)\n",
        "    knn.fit(X_train, y_train)\n",
        "    y_pred = knn.predict(X_test)\n",
        "    acc = accuracy_score(y_test, y_pred)\n",
        "    accuracies.append(acc)\n",
        "    knn_results.append({ 'K': k, 'Accuracy': acc})\n",
        "best_k = k_values[accuracies.index(max(accuracies))]\n",
        "knn_final = KNeighborsClassifier(n_neighbors=best_k)\n",
        "knn_final.fit(X_train, y_train)\n",
        "y_pred_final = knn_final.predict(X_test)\n",
        "print(\"Best k:\", best_k)\n",
        "print(\"Classification Report: \\n\", classification_report(y_test,y_pred_final))\n",
        "bestknn =accuracy_score(y_test, y_pred_final)\n",
        "knn_df = pd.DataFrame(knn_results)"
      ],
      "metadata": {
        "colab": {
          "base_uri": "https://localhost:8080/"
        },
        "id": "NyidTSXG_nLA",
        "outputId": "9a1045e9-73dc-4dcd-e3fa-3af103533235"
      },
      "execution_count": null,
      "outputs": [
        {
          "output_type": "stream",
          "name": "stdout",
          "text": [
            "Best k: 19\n",
            "Classification Report: \n",
            "               precision    recall  f1-score   support\n",
            "\n",
            "         0.0       0.84      0.96      0.89        79\n",
            "         1.0       0.62      0.25      0.36        20\n",
            "\n",
            "    accuracy                           0.82        99\n",
            "   macro avg       0.73      0.61      0.63        99\n",
            "weighted avg       0.79      0.82      0.79        99\n",
            "\n"
          ]
        }
      ]
    },
    {
      "cell_type": "code",
      "source": [
        "X = df_ready[selected_features_classificationforpaid]\n",
        "y = df_ready[\"Paid\"]\n",
        "X_train, X_test, y_train, y_test = train_test_split(X, y, test_size=0.2, random_state=42)\n",
        "model = GaussianNB()\n",
        "model.fit(X_train, y_train)\n",
        "predictions = model.predict(X_test)\n",
        "print(\"Classification Report: \\n\", classification_report(y_test,predictions))\n",
        "Naiveacc = accuracy_score(y_test, predictions)"
      ],
      "metadata": {
        "colab": {
          "base_uri": "https://localhost:8080/"
        },
        "id": "iy119co_BpYX",
        "outputId": "8202a00a-0bf5-4256-bd58-8b0b368af798"
      },
      "execution_count": null,
      "outputs": [
        {
          "output_type": "stream",
          "name": "stdout",
          "text": [
            "Classification Report: \n",
            "               precision    recall  f1-score   support\n",
            "\n",
            "         0.0       0.83      0.94      0.88        79\n",
            "         1.0       0.50      0.25      0.33        20\n",
            "\n",
            "    accuracy                           0.80        99\n",
            "   macro avg       0.67      0.59      0.61        99\n",
            "weighted avg       0.76      0.80      0.77        99\n",
            "\n"
          ]
        }
      ]
    },
    {
      "cell_type": "code",
      "source": [
        "X = df_ready[selected_features_regressionforinteactions]\n",
        "y = df_ready[\"Total Interactions\"]\n",
        "X_train, X_test, y_train, y_test = train_test_split(X, y, test_size=0.2, random_state=0)\n",
        "n_estimators_list = [10, 50, 100, 200]\n",
        "max_depth_list = [2, 4, 6, 8]\n",
        "results = {}\n",
        "best_scoreRandomreg = 0\n",
        "best_params = {}\n",
        "rfreg_results = []\n",
        "acc_scores = []\n",
        "for depth in max_depth_list:\n",
        "    for n_estimators in n_estimators_list:\n",
        "        clf = RandomForestRegressor(n_estimators=n_estimators, max_depth=depth, random_state=0)\n",
        "        clf.fit(X_train, y_train)\n",
        "        y_pred = clf.predict(X_test)\n",
        "        acc = r2_score(y_test, y_pred)\n",
        "        acc_scores.append(acc)\n",
        "        rfreg_results.append({'N_estimators': n_estimators, 'Max_depth': depth, 'R2_Score': acc})\n",
        "        if acc > best_scoreRandomreg:\n",
        "            best_scoreRandomreg = acc\n",
        "            best_params = {'N_estimators': n_estimators, 'Max_depth': depth}\n",
        "            best_model = clf\n",
        "    results[depth] = acc_scores\n",
        "y_pred_best = best_model.predict(X_test)\n",
        "print(f\"Best Parameters: N_estimators = {best_params['N_estimators']}, Max_depth = {best_params['Max_depth']}\")\n",
        "print(\"R2 Score: \\n\", r2_score(y_test, y_pred_best))\n",
        "print(f\"MSE: {mean_squared_error(y_test, y_pred_best)}\")\n",
        "rfreg_df = pd.DataFrame(rfreg_results)"
      ],
      "metadata": {
        "colab": {
          "base_uri": "https://localhost:8080/"
        },
        "id": "SLSKd3IKJkoq",
        "outputId": "e834db0d-a870-4a1d-c384-7211b48834e3"
      },
      "execution_count": null,
      "outputs": [
        {
          "output_type": "stream",
          "name": "stdout",
          "text": [
            "Best Parameters: N_estimators = 50, Max_depth = 6\n",
            "R2 Score: \n",
            " 0.44748454679069316\n",
            "MSE: 223129.5028493962\n"
          ]
        }
      ]
    },
    {
      "cell_type": "code",
      "source": [
        "degrees = [1, 2]\n",
        "poly_results = []\n",
        "X_train, X_test, y_train, y_test = train_test_split(X, y, test_size=0.2, random_state=0)\n",
        "scaler = StandardScaler()\n",
        "X_train_scaled = scaler.fit_transform(X_train)\n",
        "X_test_scaled = scaler.transform(X_test)\n",
        "for degree in degrees:\n",
        "    poly_features = PolynomialFeatures(degree)\n",
        "    x_poly_train = poly_features.fit_transform(X_train_scaled)\n",
        "    x_poly_test = poly_features.transform(X_test_scaled)\n",
        "    model = LinearRegression()\n",
        "    model.fit(x_poly_train, y_train)\n",
        "    y_pred = model.predict(x_poly_test)\n",
        "    poly_results.append({'Degree': degree,'MSE': mean_squared_error(y_test, y_pred),'R2': r2_score(y_test, y_pred)})\n",
        "    acc = r2_score(y_test, y_pred)\n",
        "    print('Mean squared error: %.2f' % mean_squared_error(y_test, y_pred))\n",
        "    print('Coefficient of determination: %.2f' % r2_score(y_test, y_pred))\n",
        "poly_df = pd.DataFrame(poly_results)"
      ],
      "metadata": {
        "colab": {
          "base_uri": "https://localhost:8080/"
        },
        "id": "rOPEGK0XKb5c",
        "outputId": "48296c18-157b-4172-d928-7b2a6178adf3"
      },
      "execution_count": null,
      "outputs": [
        {
          "output_type": "stream",
          "name": "stdout",
          "text": [
            "Mean squared error: 21821.54\n",
            "Coefficient of determination: 0.95\n",
            "Mean squared error: 770819.67\n",
            "Coefficient of determination: -0.91\n"
          ]
        }
      ]
    },
    {
      "cell_type": "code",
      "source": [
        "alphas = [100, 10, 1, 0.1, 0.001]\n",
        "ridge_results = []\n",
        "X_train, X_test, y_train, y_test = train_test_split(X, y, test_size=0.2, random_state=0)\n",
        "scaler = StandardScaler()\n",
        "X_train_scaled = scaler.fit_transform(X_train)\n",
        "X_test_scaled = scaler.transform(X_test)\n",
        "for degree in degrees:\n",
        "    poly_features = PolynomialFeatures(degree)\n",
        "    x_poly_train = poly_features.fit_transform(X_train_scaled)\n",
        "    x_poly_test = poly_features.transform(X_test_scaled)\n",
        "    for alpha in alphas:\n",
        "      poly_features = PolynomialFeatures(degree)\n",
        "      x_poly_train = poly_features.fit_transform(X_train_scaled)\n",
        "      x_poly_test = poly_features.transform(X_test_scaled)\n",
        "      model = Ridge(alpha=alpha)\n",
        "      model.fit(x_poly_train, y_train)\n",
        "      y_pred = model.predict(x_poly_test)\n",
        "      ridge_results.append({'Degree': degree ,'Alpha': alpha,'MSE': mean_squared_error(y_test, y_pred),'R2': r2_score(y_test, y_pred)})\n",
        "      print('Mean squared error: %.2f' % mean_squared_error(y_test, y_pred))\n",
        "      print('Coefficient of determination: %.2f' % r2_score(y_test, y_pred))\n",
        "ridge_df = pd.DataFrame(ridge_results)"
      ],
      "metadata": {
        "colab": {
          "base_uri": "https://localhost:8080/"
        },
        "id": "NJkWrW9bNfMD",
        "outputId": "730a9b0f-8318-4d43-d753-f7c40c1f7d8f"
      },
      "execution_count": null,
      "outputs": [
        {
          "output_type": "stream",
          "name": "stdout",
          "text": [
            "Mean squared error: 258485.61\n",
            "Coefficient of determination: 0.36\n",
            "Mean squared error: 122913.63\n",
            "Coefficient of determination: 0.70\n",
            "Mean squared error: 32258.59\n",
            "Coefficient of determination: 0.92\n",
            "Mean squared error: 22712.03\n",
            "Coefficient of determination: 0.94\n",
            "Mean squared error: 21830.21\n",
            "Coefficient of determination: 0.95\n",
            "Mean squared error: 136166.09\n",
            "Coefficient of determination: 0.66\n",
            "Mean squared error: 271250.29\n",
            "Coefficient of determination: 0.33\n",
            "Mean squared error: 107429.89\n",
            "Coefficient of determination: 0.73\n",
            "Mean squared error: 121942.23\n",
            "Coefficient of determination: 0.70\n",
            "Mean squared error: 644906.12\n",
            "Coefficient of determination: -0.60\n"
          ]
        }
      ]
    },
    {
      "cell_type": "code",
      "source": [
        "resultsclass_dict = [\n",
        "    {\"Classifier\": \"Random Forest\", \"Score\": best_scoreRandom},\n",
        "    {\"Classifier\": \"KNN\", \"Score\": bestknn},\n",
        "    {\"Classifier\": \"Naive Bayes\", \"Score\": Naiveacc}\n",
        "]\n",
        "resultsclass_df = pd.DataFrame(resultsclass_dict)\n"
      ],
      "metadata": {
        "id": "gEdZKbWpaNBU"
      },
      "execution_count": null,
      "outputs": []
    },
    {
      "cell_type": "code",
      "source": [
        "ridge_max_r2 = max(ridge_results, key=lambda x: x['R2'])['R2']\n",
        "poly_max_r2 = max(poly_results, key=lambda x: x['R2'])['R2']\n",
        "resultsreg_dict = [\n",
        "    {\"Regression\": \"Ridge\", \"Score\": ridge_max_r2},\n",
        "    {\"Regression\": \"Polynomial\", \"Score\": poly_max_r2},\n",
        "    {\"Regression\": \"Random forest\", \"Score\": best_scoreRandomreg}\n",
        "]\n",
        "resultsreg_df = pd.DataFrame(resultsreg_dict)\n"
      ],
      "metadata": {
        "id": "bjRhiN87ZjWY"
      },
      "execution_count": null,
      "outputs": []
    }
  ]
}